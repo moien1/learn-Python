{
 "cells": [
  {
   "cell_type": "code",
   "execution_count": 10,
   "metadata": {},
   "outputs": [
    {
     "name": "stdout",
     "output_type": "stream",
     "text": [
      " enter weather:three\n",
      "i didn't get your message three\n"
     ]
    }
   ],
   "source": [
    "weather = input (\" enter weather:\")\n",
    "\n",
    "if weather.lower() == \"sunny\":\n",
    "                 print(\"wear t-shirt\")\n",
    "elif weather.lower() == \"rainy\":\n",
    "                 print(\"bring umberela\")\n",
    "elif weather.lower() == \"snowy\":\n",
    "                 print(\"wear jacket\")\n",
    "else:\n",
    "                 print(\"i didn't get your message\",weather)"
   ]
  },
  {
   "cell_type": "code",
   "execution_count": 34,
   "metadata": {},
   "outputs": [
    {
     "name": "stdout",
     "output_type": "stream",
     "text": [
      "Enter cheese order weight (numeric value):30\n",
      "30.0 costs $ 30\n"
     ]
    }
   ],
   "source": [
    "weight_min = 5.0\n",
    "weight_max= 100.0\n",
    "price = 6\n",
    "\n",
    "order_amount = input(\"Enter cheese order weight (numeric value):\")\n",
    "\n",
    "if float(order_amount) > weight_max:\n",
    "    print ( float(order_amount), \"is more than currently available stock\")\n",
    "\n",
    "elif float(order_amount) < weight_min:\n",
    "    print(float(order_amount), \"is below minimum order amount\")\n",
    "\n",
    "else:\n",
    "    print(float(order_amount), \"costs $\",int(weight) * price)\n",
    "\n",
    "\n"
   ]
  },
  {
   "cell_type": "code",
   "execution_count": 46,
   "metadata": {},
   "outputs": [
    {
     "name": "stdout",
     "output_type": "stream",
     "text": [
      "+/-\n"
     ]
    }
   ],
   "source": [
    "x=0\n",
    "y=-1\n",
    "\n",
    "if x < 0:\n",
    "    print(\"-\")\n",
    "else:\n",
    "    if y >= 0:\n",
    "        print(\"+/+\")\n",
    "    else:\n",
    "        print(\"+/-\")\n"
   ]
  },
  {
   "cell_type": "code",
   "execution_count": 47,
   "metadata": {},
   "outputs": [
    {
     "name": "stdout",
     "output_type": "stream",
     "text": [
      "Apple\n"
     ]
    }
   ],
   "source": [
    "if True:\n",
    "    if False:\n",
    "        print(\"Banana\")\n",
    "    else:\n",
    "        print(\"Apple\")\n",
    "else:\n",
    "    if True:\n",
    "        print(\"Dates\")\n",
    "    else:\n",
    "        print(\"Corn\")"
   ]
  },
  {
   "cell_type": "code",
   "execution_count": 53,
   "metadata": {},
   "outputs": [
    {
     "name": "stdout",
     "output_type": "stream",
     "text": [
      "It's\n",
      "Python Time!\n"
     ]
    }
   ],
   "source": [
    "print(\"It\\'s\\nPython Time!\")"
   ]
  },
  {
   "cell_type": "code",
   "execution_count": null,
   "metadata": {},
   "outputs": [],
   "source": [
    "num_1 = \"\"\n",
    "num_temp = \"\"\n",
    "num_final = \"\"\n",
    "\n",
    "while True:\n",
    "    num_1 = input(\"Enter an integer: \")\n",
    "    if num_1.isdigit():\n",
    "        num_final = num_temp + num_1\n",
    "        num_temp = num_final\n",
    "    else:\n",
    "        print(num_final)\n",
    "        break\n",
    "        "
   ]
  },
  {
   "cell_type": "code",
   "execution_count": 62,
   "metadata": {},
   "outputs": [
    {
     "name": "stdout",
     "output_type": "stream",
     "text": [
      "run forever\n",
      "run forever\n",
      "run forever\n",
      "run forever\n",
      "run forever\n",
      "run forever\n",
      "run forever\n",
      "run forever\n",
      "run forever\n",
      "run forever\n"
     ]
    }
   ],
   "source": [
    "    x = 0 \n",
    "\n",
    "while True:\n",
    "    \n",
    "        if x < 10:\n",
    "            print('run forever')\n",
    "            x += 1\n",
    "        else:\n",
    "            break"
   ]
  },
  {
   "cell_type": "code",
   "execution_count": 65,
   "metadata": {},
   "outputs": [
    {
     "name": "stdout",
     "output_type": "stream",
     "text": [
      "time is 3\n",
      "time is 4\n"
     ]
    }
   ],
   "source": [
    "time = 3\n",
    "\n",
    "while True:\n",
    "    print('time is', time)\n",
    "    \n",
    "    if time == 3:\n",
    "         time = 4\n",
    "    else:\n",
    "        break"
   ]
  },
  {
   "cell_type": "code",
   "execution_count": 66,
   "metadata": {},
   "outputs": [
    {
     "name": "stdout",
     "output_type": "stream",
     "text": [
      "loop\n",
      "loop\n",
      "loop\n",
      "loop\n",
      "loop\n"
     ]
    }
   ],
   "source": [
    "      x = 0 \n",
    "\n",
    "while x < 5:\n",
    "    x += 1\n",
    "    print('loop')"
   ]
  },
  {
   "cell_type": "code",
   "execution_count": 85,
   "metadata": {},
   "outputs": [
    {
     "ename": "SyntaxError",
     "evalue": "invalid syntax (<ipython-input-85-c7f97c027baf>, line 7)",
     "output_type": "error",
     "traceback": [
      "\u001b[0;36m  File \u001b[0;32m\"<ipython-input-85-c7f97c027baf>\"\u001b[0;36m, line \u001b[0;32m7\u001b[0m\n\u001b[0;31m    def ignore_case(five)\u001b[0m\n\u001b[0m                         ^\u001b[0m\n\u001b[0;31mSyntaxError\u001b[0m\u001b[0;31m:\u001b[0m invalid syntax\n"
     ]
    }
   ],
   "source": [
    " def ignore_case(name):\n",
    "    answer=\"\"\n",
    "    while answer.isalpha() == False:\n",
    "        answer = input(\"enter last name: \")\n",
    "    return answer.lower() == name.lower()\n"
   ]
  },
  {
   "cell_type": "code",
   "execution_count": 89,
   "metadata": {},
   "outputs": [
    {
     "data": {
      "text/plain": [
       "False"
      ]
     },
     "execution_count": 89,
     "metadata": {},
     "output_type": "execute_result"
    }
   ],
   "source": [
    "a= \"5\"\n",
    "a.isalpha()"
   ]
  },
  {
   "cell_type": "code",
   "execution_count": 93,
   "metadata": {},
   "outputs": [
    {
     "name": "stdout",
     "output_type": "stream",
     "text": [
      "Input a letter or number: 5\n",
      "\n",
      "It is a Small Number\n",
      "Input a letter or number: fifa\n",
      "\n",
      "It is all alphabetical\n",
      "Input a letter or number: r43\n",
      "\n",
      "Wow, is not a number or a letter!\n"
     ]
    }
   ],
   "source": [
    "def str_analysis(io):\n",
    "      io = input(\"Input a letter or number: \")\n",
    "      return (io) \n",
    "while True:\n",
    "      user = input(\"Input a letter or number: \")\n",
    "      print()\n",
    "      if user.isdigit():\n",
    "            if int(user) >= 99:\n",
    "                  print(\"It is a Big Number\")\n",
    "            elif int(user) <= 99:\n",
    "                  print(\"It is a Small Number\")\n",
    "      elif user.isalpha ():\n",
    "            print(\"It is all alphabetical\")\n",
    "      else:\n",
    "            print(\"Wow, is not a number or a letter!\")\n",
    "            break\n",
    "    "
   ]
  },
  {
   "cell_type": "code",
   "execution_count": 114,
   "metadata": {},
   "outputs": [],
   "source": [
    "def adding_report(report = \"T\") :\n",
    "    total= 0\n",
    "    items = \"\"\n",
    "    while True:\n",
    "        user = input(\"integer or Q: \")\n",
    "        if user.isdigit() == True:\n",
    "            total = int(total) + int(user)\n",
    "            if report.upper() == \"A\":\n",
    "                items  += user + \"/n\"\n",
    "        elif user.upper().startswith(\"Q\") == True:\n",
    "                if report.upper() == \"A\":\n",
    "                    print(\"\\n\" + \"Items: \" +  \"\\n\" + str(items))\n",
    "                    print(\"Total: \" + str(total))\n",
    "                break\n",
    "        elif report.upper() == \"T\" :\n",
    "            print(\"\\n\" + \"Total: \" + str(total))\n",
    "            break\n",
    "        else:\n",
    "            print(\"Invalid input.\")\n",
    "      \n",
    "\n",
    "    adding_report()"
   ]
  },
  {
   "cell_type": "code",
   "execution_count": 116,
   "metadata": {},
   "outputs": [
    {
     "name": "stdout",
     "output_type": "stream",
     "text": [
      "act\n"
     ]
    }
   ],
   "source": [
    "word = \"characteristics\"\n",
    "print(word[4:7])\n"
   ]
  },
  {
   "cell_type": "code",
   "execution_count": 117,
   "metadata": {},
   "outputs": [
    {
     "name": "stdout",
     "output_type": "stream",
     "text": [
      "Conseq\n"
     ]
    }
   ],
   "source": [
    "word = \"Consequences\"\n",
    "print(word[:6])"
   ]
  },
  {
   "cell_type": "code",
   "execution_count": 120,
   "metadata": {},
   "outputs": [
    {
     "name": "stdout",
     "output_type": "stream",
     "text": [
      "Atn\n"
     ]
    }
   ],
   "source": [
    "     name = \"Alton\"\n",
    "print(name[::2])"
   ]
  },
  {
   "cell_type": "code",
   "execution_count": 122,
   "metadata": {},
   "outputs": [
    {
     "name": "stdout",
     "output_type": "stream",
     "text": [
      "tac\n"
     ]
    }
   ],
   "source": [
    "word = \"cat\"\n",
    "print(word[::-1])"
   ]
  },
  {
   "cell_type": "code",
   "execution_count": 127,
   "metadata": {},
   "outputs": [
    {
     "name": "stdout",
     "output_type": "stream",
     "text": [
      "m\n",
      "a\n",
      "r\n",
      "z\n",
      "i\n",
      "e\n",
      "h\n"
     ]
    }
   ],
   "source": [
    "name = \"marzieh\"\n",
    "\n",
    "for letter in name:\n",
    "    n = print(letter)"
   ]
  },
  {
   "cell_type": "code",
   "execution_count": 138,
   "metadata": {},
   "outputs": [
    {
     "name": "stdout",
     "output_type": "stream",
     "text": [
      "moein to moEin\n"
     ]
    }
   ],
   "source": [
    "lastname = \"moein\"\n",
    "newname = \"\"\n",
    "\n",
    "for x in lastname:\n",
    "    if x.lower() == \"e\":\n",
    "        newname += x.upper() \n",
    "    else:\n",
    "        newname += x\n",
    "print (lastname , \"to\" , newname)\n"
   ]
  },
  {
   "cell_type": "code",
   "execution_count": 140,
   "metadata": {},
   "outputs": [
    {
     "name": "stdout",
     "output_type": "stream",
     "text": [
      "please enter your first name :marzieh\n",
      " m\n",
      " a\n",
      " r\n",
      " z\n",
      " i\n",
      " e\n",
      " h\n"
     ]
    }
   ],
   "source": [
    "first_name = input (\"please enter your first name :\")\n",
    "\n",
    "for ltr in first_name:\n",
    "    print (\"\" , ltr)"
   ]
  },
  {
   "cell_type": "markdown",
   "metadata": {},
   "source": [
    "## Task 2\n",
    "\n",
    "### Program: capitalize-io\n",
    "\n",
    "- get user input for first_name\n",
    "- create an empty string variable: new_name\n",
    "- iterate through letters in first_name\n",
    "- add each letter in new_name\n",
    "- capitalize if letter is an \"i\" or \"o\" *(hint: if, elif, else)\n",
    "- print new_name\n"
   ]
  },
  {
   "cell_type": "code",
   "execution_count": 142,
   "metadata": {},
   "outputs": [
    {
     "name": "stdout",
     "output_type": "stream",
     "text": [
      "please enter your first name :marzieh\n",
      "marzieh to marzIeh\n"
     ]
    }
   ],
   "source": [
    "first_name = input (\"please enter your first name :\")\n",
    "new_name = \"\"\n",
    "\n",
    "for ltr in first_name:\n",
    "    if ltr.lower() == \"i\" :\n",
    "        new_name += ltr.upper()\n",
    "    elif ltr.lower() == \"o\" :\n",
    "        new_name += ltr.upper()\n",
    "    else :\n",
    "        new_name += ltr\n",
    "        \n",
    "print (first_name , \"to\" , new_name)"
   ]
  },
  {
   "cell_type": "markdown",
   "metadata": {},
   "source": [
    "## Task 3\n",
    "\n",
    "### String slicing and iteration\n",
    "\n",
    "- create & print a variable, other_word, made of every other letter in long_word\n",
    "\n",
    "long_word = \"juxtaposition\"\n",
    "\n",
    "**Mirror Color\n",
    "- get user input, fav_color\n",
    "- print fav_color backwards + fav_color\n",
    "example: \"Red\" prints \"deRRed\""
   ]
  },
  {
   "cell_type": "code",
   "execution_count": 145,
   "metadata": {},
   "outputs": [
    {
     "name": "stdout",
     "output_type": "stream",
     "text": [
      "j\n",
      "x\n",
      "a\n",
      "o\n",
      "i\n",
      "i\n",
      "n\n"
     ]
    }
   ],
   "source": [
    "long_word = \"juxtaposition\"\n",
    "\n",
    "for ltr in long_word[::2]:\n",
    "    print(ltr)"
   ]
  },
  {
   "cell_type": "code",
   "execution_count": 149,
   "metadata": {},
   "outputs": [
    {
     "name": "stdout",
     "output_type": "stream",
     "text": [
      "please enter your favoriate color :red\n",
      "redder\n"
     ]
    }
   ],
   "source": [
    "fav_color = input (\"please enter your favoriate color :\")\n",
    "backwards=\"\"\n",
    "\n",
    "for ltr in fav_color[::-1]:\n",
    "    backwards += ltr\n",
    "    \n",
    "print (fav_color + backwards)"
   ]
  },
  {
   "cell_type": "code",
   "execution_count": 150,
   "metadata": {},
   "outputs": [
    {
     "name": "stdout",
     "output_type": "stream",
     "text": [
      "ite\n"
     ]
    }
   ],
   "source": [
    " student_name = \"iteration\"\n",
    "new_word = \"\"\n",
    "\n",
    "for letter in student_name[:3]:\n",
    "    new_word += letter\n",
    "print(new_word)"
   ]
  },
  {
   "cell_type": "code",
   "execution_count": 160,
   "metadata": {
    "scrolled": true
   },
   "outputs": [
    {
     "name": "stdout",
     "output_type": "stream",
     "text": [
      "2\n"
     ]
    },
    {
     "data": {
      "text/plain": [
       "2"
      ]
     },
     "execution_count": 160,
     "metadata": {},
     "output_type": "execute_result"
    }
   ],
   "source": [
    "student_name = \"iteration\"\n",
    "count = 0\n",
    "for letter in student_name:\n",
    "    if letter.lower() == \"e\":\n",
    "        print(count)\n",
    "    count += 1\n",
    "\n",
    "# or\n",
    "\n",
    "student_name.find(\"e\")"
   ]
  },
  {
   "cell_type": "code",
   "execution_count": 161,
   "metadata": {
    "scrolled": true
   },
   "outputs": [
    {
     "name": "stdout",
     "output_type": "stream",
     "text": [
      "loction of 1 at index:  1\n",
      "loction of 1 at index:  3\n",
      "loction of 1 at index:  5\n",
      "no more 1\n"
     ]
    }
   ],
   "source": [
    "name = \"n1m1b1b2v3\"\n",
    "name_1  = name. find(\"1\")\n",
    "\n",
    "while name_1 >= 0:\n",
    "    print(\"loction of 1 at index: \", name_1)\n",
    "    name_1  = name. find(\"1\", name_1 + 1)\n",
    "    \n",
    "print(\"no more 1\")"
   ]
  },
  {
   "cell_type": "code",
   "execution_count": 169,
   "metadata": {},
   "outputs": [
    {
     "name": "stdout",
     "output_type": "stream",
     "text": [
      "location of a : 1\n",
      "location of a : 3\n",
      "location of a : 6\n",
      "location of a : 8\n",
      "location of a : 10\n",
      "no more\n"
     ]
    }
   ],
   "source": [
    "na=\"maraziaeaha\"\n",
    "na_1 = na.find(\"a\")\n",
    "\n",
    "while na_1>= 0:\n",
    "    print (\"location of a :\", na_1)\n",
    "    na_1 = na. find(\"a\", na_1 + 1)\n",
    "\n",
    "print(\"no more\")"
   ]
  },
  {
   "cell_type": "markdown",
   "metadata": {},
   "source": [
    "\n",
    "Program: print each word in a quote\n",
    "\n",
    "start = 0\n",
    "space_index = quote.find(\" \")\n",
    "while space_index != -1:\n",
    "    #code to print word (index slice start:space_index)\n",
    "Output should look like below:\n",
    "\n",
    "  they\n",
    "  stumble\n",
    "  who\n",
    "  run\n",
    "  fast\n",
    "#Print each word in the quote on a new line\n",
    "quote = \"they stumble who run fast\""
   ]
  },
  {
   "cell_type": "code",
   "execution_count": 182,
   "metadata": {},
   "outputs": [
    {
     "name": "stdout",
     "output_type": "stream",
     "text": [
      "they\n",
      "stumble\n",
      "who\n",
      "run\n",
      "fast\n"
     ]
    }
   ],
   "source": [
    "quote = \"they stumble who run fast\"\n",
    "start = 0 \n",
    "space_index= quote.find(\" \")\n",
    "\n",
    "while space_index >=0 :\n",
    "        index_word = quote[start:space_index]\n",
    "        print(index_word )\n",
    "        \n",
    "        start = space_index + 1\n",
    "        space_index = quote.find(\" \" , space_index + 1)\n",
    "\n",
    "index_word= quote[start:]\n",
    "print(index_word )\n"
   ]
  },
  {
   "cell_type": "code",
   "execution_count": 192,
   "metadata": {},
   "outputs": [
    {
     "data": {
      "text/plain": [
       "-1"
      ]
     },
     "execution_count": 192,
     "metadata": {},
     "output_type": "execute_result"
    }
   ],
   "source": [
    "word = \"python\"\n",
    "word.find(\"x\")"
   ]
  },
  {
   "cell_type": "code",
   "execution_count": 195,
   "metadata": {},
   "outputs": [],
   "source": [
    "numbers = [2, 3, 2]\n",
    "total = 0\n",
    "\n",
    "while numbers:\n",
    "    total += numbers.pop()"
   ]
  },
  {
   "cell_type": "markdown",
   "metadata": {},
   "source": [
    "Program: Words after \"G\"/\"g\"\n",
    "\n",
    "Create a program inputs a phrase (like a famous quotation) and prints all of the words that start with h-z\n",
    "\n"
   ]
  },
  {
   "cell_type": "code",
   "execution_count": 227,
   "metadata": {},
   "outputs": [
    {
     "name": "stdout",
     "output_type": "stream",
     "text": [
      "enter a famous quotation : Wheresoever you go, go with all your heart\n",
      "Wheresoever\n",
      "you\n",
      "go,\n",
      "go\n",
      "with\n",
      "all\n",
      "your\n",
      "heart\n"
     ]
    }
   ],
   "source": [
    "quote1 = input (\"enter a famous quotation : \")\n",
    "start = 0\n",
    "space = quote1.find(\" \")\n",
    "while space >= 0:\n",
    "    word = quote1[start:space]\n",
    "    print(word)\n",
    "    \n",
    "    start = space + 1\n",
    "    space = quote1.find(\" \", space + 1)\n",
    "    \n",
    "word = quote1[start:]\n",
    "print (word)\n",
    "    "
   ]
  },
  {
   "cell_type": "code",
   "execution_count": 225,
   "metadata": {},
   "outputs": [
    {
     "name": "stdout",
     "output_type": "stream",
     "text": [
      "enter your phrase: Wheresoever you go, go with all your heart \n",
      " Wheresoever\n",
      " you\n",
      " with\n",
      " your\n",
      " heart\n"
     ]
    }
   ],
   "source": [
    "inp_ph=input(\"enter your phrase: \")\n",
    "w=0\n",
    "n=0\n",
    "word=\" \"\n",
    "spac_loc=inp_ph.find(\" \")\n",
    "\n",
    "while spac_loc >=0:\n",
    "    if inp_ph[n].isalpha():\n",
    "        #print(\"Yes it is alpha\")\n",
    "        if inp_ph[n].lower()>\"g\":\n",
    "           # print(\"Yes it is greater than g\")\n",
    "            while n!=spac_loc:\n",
    "                word=word+inp_ph[n]\n",
    "                n=n+1\n",
    "            print(word)\n",
    "            word=\" \"\n",
    "            n=spac_loc+1\n",
    "            spac_loc=inp_ph.find(\" \",n+1)\n",
    "            \n",
    "        else:\n",
    "            n=spac_loc+1\n",
    "            spac_loc=inp_ph.find(\" \",n+1)\n",
    "            "
   ]
  },
  {
   "cell_type": "code",
   "execution_count": 226,
   "metadata": {},
   "outputs": [
    {
     "name": "stdout",
     "output_type": "stream",
     "text": [
      "enter your phrase: Wheresoever you go, go with all your heart \n",
      "WHERESOEVER\n",
      "YOU\n",
      "WITH\n",
      "YOUR\n",
      "HEART\n"
     ]
    }
   ],
   "source": [
    "phrase_inp=input(\"enter your phrase: \")\n",
    "work=\"\"\n",
    "for word in phrase_inp:\n",
    "    if word.isalpha():\n",
    "        work=work+word\n",
    "        \n",
    "        \n",
    "    else:\n",
    "        \n",
    "        if work.lower()>=\"h\":\n",
    "            print(work.upper())\n",
    "            work=\"\"\n",
    "        else:\n",
    "            work=\"\""
   ]
  },
  {
   "cell_type": "markdown",
   "metadata": {},
   "source": [
    "## Program: list-o-matic\n",
    "\n",
    "### This program takes string input and checks if that string is in a list of strings\n",
    "\n",
    "- if string is in the list it removes the first instance from list\n",
    "- if string is not in the list the input gets appended to the list\n",
    "- if the string is empty then the last item is popped from the list\n",
    "- if the list becomes empty the program ends\n",
    "- if the user enters \"quit\" then the program ends\n"
   ]
  },
  {
   "cell_type": "code",
   "execution_count": 238,
   "metadata": {},
   "outputs": [
    {
     "name": "stdout",
     "output_type": "stream",
     "text": [
      "look at all the animals: ['cat', 'dog']\n",
      " enter new animal :\n",
      "Look at my list of animal: ['cat', 'dog']\n",
      "dog popped from list\n",
      "[]\n",
      "I have no animal. Goodbye!\n"
     ]
    }
   ],
   "source": [
    "animal_list = [\"cat\" , \"dog\" ]\n",
    "print(\"look at all the animals: \" + str(animal_list))\n",
    "\n",
    "def list_o_matic(fstring):\n",
    "    if fstring.lower() in animal_list:\n",
    "        print(fstring.lower() + \" has been removed from list\")\n",
    "        return animal_list.remove(fstring)\n",
    "    \n",
    "    elif fstring == \"\":\n",
    "        fstring = animal_list.pop()\n",
    "        print(fstring.lower() + \" popped from list\")\n",
    "        return animal_list.pop()\n",
    "        \n",
    "    else:\n",
    "        print(fstring.lower() + \" has been appened to list\")\n",
    "        return animal_list.append(fstring)\n",
    "\n",
    "    \n",
    "    \n",
    "while animal_list:\n",
    "    new_animal= input(\" enter new animal or Q to quit:\")\n",
    "    if new_animal.upper() == \"Q\":\n",
    "        print(\"Goodbye, and thanks for all the animal!\")\n",
    "        break\n",
    "    \n",
    "    else:\n",
    "        print(\"Look at my list of animal: \" + str(animal_list))\n",
    "        list_o_matic(new_animal)\n",
    "        print(animal_list)\n",
    "\n",
    "print(\"I have no animal. Goodbye!\")\n",
    "        \n",
    "    "
   ]
  },
  {
   "cell_type": "code",
   "execution_count": 242,
   "metadata": {},
   "outputs": [
    {
     "name": "stdout",
     "output_type": "stream",
     "text": [
      "Look at my list of fish: ['salmon', 'cod']\n",
      "Enter any type of fish or Q to quit: \n",
      "Look at my list of fish: ['salmon', 'cod']\n",
      "cod popped from list\n",
      "[]\n",
      "I have no fish. Goodbye!\n"
     ]
    }
   ],
   "source": [
    "fish_list = [\"salmon\", \"cod\"]\n",
    "print(\"Look at my list of fish: \" + str(fish_list))\n",
    "\n",
    "def list_o_matic(fstring):\n",
    "    if fstring == \"\":\n",
    "        fstring = fish_list.pop()\n",
    "        print(fstring.lower() + \" popped from list\")\n",
    "        return fish_list.pop()\n",
    "    elif fstring.lower() in fish_list:\n",
    "        print(fstring.lower() + \" has been removed from list\")\n",
    "        return fish_list.remove(fstring)\n",
    "    else:\n",
    "        print(\"1 instance of \" + fstring.lower() + \" appended to list\")\n",
    "        return fish_list.append(fstring)\n",
    "\n",
    "while fish_list:\n",
    "    new_fish = input(\"Enter any type of fish or Q to quit: \")\n",
    "    if new_fish.upper() == \"Q\":\n",
    "            print(\"Goodbye, and thanks for all the fish!\")\n",
    "            break\n",
    "    else:\n",
    "            print(\"Look at my list of fish: \" + str(fish_list))\n",
    "            list_o_matic(new_fish)\n",
    "            print(fish_list)\n",
    "print(\"I have no fish. Goodbye!\")"
   ]
  },
  {
   "cell_type": "markdown",
   "metadata": {},
   "source": [
    "## sort and filter\n",
    "\n",
    "- Print only cities starting with \"m\"\n"
   ]
  },
  {
   "cell_type": "code",
   "execution_count": 250,
   "metadata": {},
   "outputs": [
    {
     "name": "stdout",
     "output_type": "stream",
     "text": [
      "['Munich', 'Mexico City']\n"
     ]
    }
   ],
   "source": [
    "cities = [\"New York\", \"Shanghai\", \"Munich\", \"Tokyo\", \"Dubai\", \"Mexico City\", \"São Paulo\", \"Hyderabad\"]\n",
    "\n",
    "new_city = []\n",
    "\n",
    "for city in cities:\n",
    "    if city[0].lower() == \"m\":\n",
    "        new_city.append(city)\n",
    "print(new_city)"
   ]
  },
  {
   "cell_type": "markdown",
   "metadata": {},
   "source": [
    "- sort into lists with \"A\" in the city name and without \"A\" in the name: a_city & no_a_city"
   ]
  },
  {
   "cell_type": "code",
   "execution_count": 258,
   "metadata": {},
   "outputs": [
    {
     "name": "stdout",
     "output_type": "stream",
     "text": [
      "a_city :  ['Shanghai', 'Dubai', 'São Paulo', 'Hyderabad']\n",
      "no_a_city :  ['New York', 'Munich', 'Tokyo', 'Mexico City']\n"
     ]
    }
   ],
   "source": [
    "cities = [\"New York\", \"Shanghai\", \"Munich\", \"Tokyo\", \"Dubai\", \"Mexico City\", \"São Paulo\", \"Hyderabad\"]\n",
    "\n",
    "a_city = []\n",
    "no_a_city = []\n",
    "letter = \"a\"\n",
    "\n",
    "for city in cities:\n",
    "    if letter in city:\n",
    "        a_city.append(city)\n",
    "        \n",
    "    else:\n",
    "        no_a_city.append(city)\n",
    "        \n",
    "print (\"a_city : \" , a_city)        \n",
    "print (\"no_a_city : \" , no_a_city)\n",
    "        "
   ]
  },
  {
   "cell_type": "code",
   "execution_count": 267,
   "metadata": {},
   "outputs": [
    {
     "name": "stdout",
     "output_type": "stream",
     "text": [
      "ehsan\n",
      "mahdi\n",
      "marzieh\n",
      "najme\n",
      "taha\n"
     ]
    }
   ],
   "source": [
    "first_name = [\"marzieh\" , \"ehsan\" , \"mahdi\" , \"taha\" , \"najme\"] \n",
    "\n",
    "for name in sorted(first_name):\n",
    "    print(name)"
   ]
  },
  {
   "cell_type": "code",
   "execution_count": 334,
   "metadata": {},
   "outputs": [
    {
     "name": "stdout",
     "output_type": "stream",
     "text": [
      "sorted ['ehsan', 'mahdi', 'marzieh', 'najme', 'taha']\n"
     ]
    }
   ],
   "source": [
    "first_name = [\"marzieh\" , \"ehsan\" , \"mahdi\" , \"taha\" , \"najme\"]\n",
    "\n",
    "first_name.sort()\n",
    "print(\"sorted\",first_name)"
   ]
  },
  {
   "cell_type": "code",
   "execution_count": 270,
   "metadata": {},
   "outputs": [
    {
     "name": "stdout",
     "output_type": "stream",
     "text": [
      "1\n",
      "2\n",
      "3\n",
      "a\n",
      "b\n",
      "c\n",
      "e\n",
      "o\n"
     ]
    }
   ],
   "source": [
    "abc = \"eobca321\"\n",
    "\n",
    "for letter in sorted(abc):\n",
    "    print(letter)"
   ]
  },
  {
   "cell_type": "code",
   "execution_count": 272,
   "metadata": {},
   "outputs": [
    {
     "name": "stdout",
     "output_type": "stream",
     "text": [
      "1\n",
      "2\n",
      "3\n",
      "4\n",
      "5\n"
     ]
    }
   ],
   "source": [
    "number = (1,2,5,4,3)\n",
    "\n",
    "for num in sorted(number):\n",
    "    print(num)"
   ]
  },
  {
   "cell_type": "code",
   "execution_count": 275,
   "metadata": {},
   "outputs": [
    {
     "name": "stdout",
     "output_type": "stream",
     "text": [
      "['ehsan', 'mahdi', 'marzieh', 'najme', 'taha']\n"
     ]
    }
   ],
   "source": [
    "first_name = [\"marzieh\" , \"ehsan\" , \"mahdi\" , \"taha\" , \"najme\"]\n",
    "\n",
    "print(sorted(first_name))"
   ]
  },
  {
   "cell_type": "markdown",
   "metadata": {},
   "source": [
    "## Task 4\n",
    "\n",
    "### Program: Foot Bones Quiz\n",
    "\n",
    "Create a function that will iterate through foot_bones looking for a match of a string argument\n",
    "\n",
    "- Call the function 2 times with the name of a footbone\n",
    "- print immediate feedback for each answer (correct - incorrect)\n",
    "- print the total # of foot_bones identified"
   ]
  },
  {
   "cell_type": "code",
   "execution_count": 313,
   "metadata": {},
   "outputs": [
    {
     "name": "stdout",
     "output_type": "stream",
     "text": [
      "Enter a bone: navicular\n",
      "Is  navicular  a foot bone? True\n",
      "Enter another bone: arm\n",
      "Is  arm  a foot bone? False\n"
     ]
    }
   ],
   "source": [
    "foot_bones = [\"calcaneus\", \"talus\", \"cuboid\", \"navicular\", \"lateral cuneiform\", \"intermediate cuneiform\", \"medial cuneiform\"]\n",
    "\n",
    "def foot_bones_quiz(guess, answer):\n",
    "    total_bones = 0\n",
    "    for bones in answer:\n",
    "        total_bones += bones.count(bones)\n",
    "        if guess.lower() == bones.lower():\n",
    "            return True\n",
    "        else:\n",
    "            pass\n",
    "    return False\n",
    "    print(\"Total number of identified bones: \" + str(total_bones))\n",
    "\n",
    "user_guess = input(\"Enter a bone: \")\n",
    "print(\"Is \" , user_guess.lower() , \" a foot bone?\" , foot_bones_quiz(user_guess, foot_bones))\n",
    "user_guess = input(\"Enter another bone: \")\n",
    "print(\"Is \" , user_guess.lower() , \" a foot bone?\" , foot_bones_quiz(user_guess, foot_bones))"
   ]
  },
  {
   "cell_type": "code",
   "execution_count": 314,
   "metadata": {},
   "outputs": [
    {
     "name": "stdout",
     "output_type": "stream",
     "text": [
      "Dubai\n"
     ]
    }
   ],
   "source": [
    " cities = [\"New York\", \"Shanghai\", \"Munich\", \"Tokyo\", \"Dubai\", \"Mexico City\", \"São Paulo\", \"Hyderabad\"]\n",
    "\n",
    "for city in cities:\n",
    "    if city.startswith(\"P\"):\n",
    "        print(city)\n",
    "    elif city.startswith(\"D\"):\n",
    "        print(city)\n",
    "    "
   ]
  },
  {
   "cell_type": "code",
   "execution_count": 316,
   "metadata": {},
   "outputs": [
    {
     "name": "stdout",
     "output_type": "stream",
     "text": [
      "2\n"
     ]
    }
   ],
   "source": [
    "test_string = 'Mexico City'\n",
    "ltr_cnt = test_string.lower().count('c')\n",
    "print(ltr_cnt)"
   ]
  },
  {
   "cell_type": "markdown",
   "metadata": {},
   "source": [
    "## Use range(stop) to print the second half of spell_list below\n",
    "\n",
    "- print the second half of a spelling list using a range(stop) loop to iterate the list\n",
    "spell_list = [\"Wednesday\", \"Tuesday\", \"February\", \"November\", \"Annual\", \"Calendar\", \"Solstice\"]"
   ]
  },
  {
   "cell_type": "code",
   "execution_count": 319,
   "metadata": {},
   "outputs": [
    {
     "name": "stdout",
     "output_type": "stream",
     "text": [
      "November\n",
      "Annual\n",
      "Calendar\n",
      "Solstice\n"
     ]
    }
   ],
   "source": [
    "spell_list = [\"Wednesday\", \"Tuesday\", \"February\", \"November\", \"Annual\", \"Calendar\", \"Solstice\"]\n",
    "\n",
    "half = int(len(spell_list)/2)\n",
    "\n",
    "for word in range(half,len(spell_list)):\n",
    "    print(spell_list[word])"
   ]
  },
  {
   "cell_type": "markdown",
   "metadata": {},
   "source": [
    "- using range(x) multiply the numbers 1 through 7 :\n",
    "1x2x3x4x5x6x7 = 5040"
   ]
  },
  {
   "cell_type": "code",
   "execution_count": 322,
   "metadata": {},
   "outputs": [
    {
     "name": "stdout",
     "output_type": "stream",
     "text": [
      "1\n",
      "2\n",
      "6\n",
      "24\n",
      "120\n",
      "720\n",
      "5040\n"
     ]
    }
   ],
   "source": [
    "range(1,8)\n",
    "multi= 1\n",
    "for x in range(1,8):\n",
    "    multi = multi * x\n",
    "    print(multi)"
   ]
  },
  {
   "cell_type": "markdown",
   "metadata": {},
   "source": [
    "## range(start,stop)\n",
    "\n",
    "- using range(start,stop), .append() the numbers 5 to 15 to the list: five_fifteen\n",
    "- print list five_fifteen"
   ]
  },
  {
   "cell_type": "code",
   "execution_count": 324,
   "metadata": {},
   "outputs": [
    {
     "name": "stdout",
     "output_type": "stream",
     "text": [
      "[5, 6, 7, 8, 9, 10, 11, 12, 13, 14, 15]\n"
     ]
    }
   ],
   "source": [
    "five_fifteen = []\n",
    "for x in range(5,16):\n",
    "    five_fifteen.append(x)\n",
    "print(five_fifteen)"
   ]
  },
  {
   "cell_type": "code",
   "execution_count": 329,
   "metadata": {},
   "outputs": [
    {
     "name": "stdout",
     "output_type": "stream",
     "text": [
      "024\n"
     ]
    }
   ],
   "source": [
    "numbers = \"\"\n",
    "for x in range(0,5,2):\n",
    "    numbers += str(x)\n",
    "print(numbers)"
   ]
  },
  {
   "cell_type": "markdown",
   "metadata": {},
   "source": [
    "## Task 3\n",
    "\n",
    "### .sort() & sorted()\n",
    "\n",
    "- print cites from visited_cities list in alphbetical order using .sort()\n",
    "- only print cities that names start \"Q\" or earlier"
   ]
  },
  {
   "cell_type": "code",
   "execution_count": 359,
   "metadata": {},
   "outputs": [
    {
     "name": "stdout",
     "output_type": "stream",
     "text": [
      "['Dubai', 'Hyderabad', 'Mexico City', 'Munich', 'New York', 'Shanghai', 'São Paulo', 'Toyko'] \n",
      "\n",
      "cities that names start 'Q' or earlier: \n",
      "\n",
      "Dubai\n"
     ]
    }
   ],
   "source": [
    "visited_cities = [\"New York\", \"Shanghai\", \"Munich\", \"Toyko\", \"Dubai\", \"Mexico City\", \"São Paulo\", \"Hyderabad\"]\n",
    "\n",
    "visited_cities.sort()\n",
    "print(visited_cities,\"\\n\")\n",
    "print (\"cities that names start 'Q' or earlier: \\n\",)\n",
    "for city in visited_cities:\n",
    "    if city[0].lower() <= \"g\" :\n",
    "        print(city)\n"
   ]
  },
  {
   "cell_type": "markdown",
   "metadata": {},
   "source": [
    "### split()\n",
    "- split the string(rhyme) into a list of words (rhyme_words)\n",
    "- print each word on it's own line"
   ]
  },
  {
   "cell_type": "code",
   "execution_count": 366,
   "metadata": {},
   "outputs": [
    {
     "name": "stdout",
     "output_type": "stream",
     "text": [
      "['Jack', 'and', 'Jill', 'went', 'up', 'the', 'hill', 'To', 'fetch', 'a', 'pail', 'of', 'water'] \n",
      "\n",
      "Jack\n",
      "and\n",
      "Jill\n",
      "went\n",
      "up\n",
      "the\n",
      "hill\n",
      "To\n",
      "fetch\n",
      "a\n",
      "pail\n",
      "of\n",
      "water\n"
     ]
    }
   ],
   "source": [
    "rhyme = 'Jack and Jill went up the hill To fetch a pail of water'\n",
    "\n",
    "print(rhyme.split() , \"\\n\")\n",
    "\n",
    "for word in rhyme.split():\n",
    "    print(word)"
   ]
  },
  {
   "cell_type": "markdown",
   "metadata": {},
   "source": [
    "- split code_tip into a list and print the first and every other word"
   ]
  },
  {
   "cell_type": "code",
   "execution_count": 368,
   "metadata": {},
   "outputs": [
    {
     "name": "stdout",
     "output_type": "stream",
     "text": [
      "Python\n",
      "spaces\n",
      "indentation\n"
     ]
    }
   ],
   "source": [
    "code_tip = \"Python uses spaces for indentation\"\n",
    "\n",
    "for word in code_tip.split()[::2]:\n",
    "    print(word)"
   ]
  },
  {
   "cell_type": "markdown",
   "metadata": {},
   "source": [
    "### .split()\n",
    "\n",
    "- split poem into a list of phrases by splitting on \"*\" a\n",
    "- print each phrase on a new line in title case"
   ]
  },
  {
   "cell_type": "code",
   "execution_count": 372,
   "metadata": {},
   "outputs": [
    {
     "name": "stdout",
     "output_type": "stream",
     "text": [
      "Write Code Frequently\n",
      "Save Code Frequently\n",
      "Comment Code Frequently\n",
      "Study Code Frequently\n",
      "\n"
     ]
    }
   ],
   "source": [
    "poem = \"Write code frequently*Save code frequently*Comment code frequently*Study code frequently*\"\n",
    " \n",
    "for word in poem.split(\"*\"):\n",
    "    print(word.title())"
   ]
  },
  {
   "cell_type": "markdown",
   "metadata": {},
   "source": [
    "Program: Choose the separator\n",
    "\n",
    "- get user input on what to use to join words (\" \", *, -, etc...) - store in variable: separator\n",
    "- join pharse_words with the separator and print"
   ]
  },
  {
   "cell_type": "code",
   "execution_count": 373,
   "metadata": {},
   "outputs": [
    {
     "name": "stdout",
     "output_type": "stream",
     "text": [
      "what to use to join words (, *, -, etc...) :  \n",
      "Jack and Jill went up the hill To fetch a pail of water\n"
     ]
    }
   ],
   "source": [
    "phrase_words = ['Jack', 'and', 'Jill', 'went', 'up', 'the', 'hill', 'To', 'fetch', 'a', 'pail', 'of', 'water']\n",
    "\n",
    "separator = input (\"what to use to join words (\" \", *, -, etc...) : \")\n",
    "\n",
    "print(separator.join(phrase_words))"
   ]
  },
  {
   "cell_type": "markdown",
   "metadata": {},
   "source": [
    "Program: add the digits\n",
    "\n",
    "- create a 20 digit string, and cast to a list\n",
    "- then add all the digits as integers\n",
    "- print the equation and answer\n",
    "- Hint: use cast to sum the digits, and .join() to create the equation (1+2+3+...)\n",
    "\n"
   ]
  },
  {
   "cell_type": "code",
   "execution_count": 386,
   "metadata": {},
   "outputs": [
    {
     "name": "stdout",
     "output_type": "stream",
     "text": [
      "['1', '2', '3', '4', '5', '6', '7', '8', '9', '1', '0', '1', '1', '1', '2', '1', '3', '1', '4', '1', '5', '1', '6', '1', '7', '1', '8', '1', '9', '2', '0'] \n",
      "\n",
      "1+2+3+4+5+6+7+8+9+1+0+1+1+1+2+1+3+1+4+1+5+1+6+1+7+1+8+1+9+2+0 = 102\n"
     ]
    }
   ],
   "source": [
    "digit_string= list(\"1234567891011121314151617181920\")\n",
    "\n",
    "print(digit_string,\"\\n\")\n",
    "\n",
    "total = 0\n",
    "for num in digit_string:\n",
    "    total += int(num)\n",
    "    \n",
    "print(\"+\".join(digit_string), \"=\" , total )\n"
   ]
  },
  {
   "cell_type": "markdown",
   "metadata": {},
   "source": [
    "### print a string to a list"
   ]
  },
  {
   "cell_type": "code",
   "execution_count": 387,
   "metadata": {},
   "outputs": [
    {
     "name": "stdout",
     "output_type": "stream",
     "text": [
      "['m', 'a', 'r', 'z', 'i', 'e', 'h', ' ', 'm', 'o', 'e', 'i', 'n']\n"
     ]
    }
   ],
   "source": [
    "word = \"marzieh moein\"\n",
    "print (list(word))"
   ]
  },
  {
   "cell_type": "code",
   "execution_count": 392,
   "metadata": {},
   "outputs": [
    {
     "name": "stdout",
     "output_type": "stream",
     "text": [
      "c~o~n~f~i~g~u~r~a~t~i~o~n\n"
     ]
    }
   ],
   "source": [
    "# join string by separator : first -> cast string to list\n",
    "\n",
    "word_letters =list(\"configuration\") \n",
    "\n",
    "print('~'.join(word_letters))"
   ]
  },
  {
   "cell_type": "markdown",
   "metadata": {},
   "source": [
    "## learn more about print()"
   ]
  },
  {
   "cell_type": "code",
   "execution_count": 393,
   "metadata": {},
   "outputs": [
    {
     "name": "stdout",
     "output_type": "stream",
     "text": [
      "marzieh ehsan\n"
     ]
    }
   ],
   "source": [
    "# print 2 strings in one line\n",
    "print(\"marzieh\", end= \" \")\n",
    "print(\"ehsan\")\n"
   ]
  },
  {
   "cell_type": "code",
   "execution_count": 394,
   "metadata": {},
   "outputs": [
    {
     "name": "stdout",
     "output_type": "stream",
     "text": [
      "['-Python', '-uses', '-spaces', '-for', '-indentation']\n"
     ]
    }
   ],
   "source": [
    "      code_tip = \"-PythonO-usesO-spacesO-forO-indentation\"\n",
    "tip_words = code_tip.split('O')\n",
    "print(tip_words)"
   ]
  },
  {
   "cell_type": "markdown",
   "metadata": {},
   "source": [
    "## Import Files to Jupyter from a web\n",
    "\n",
    "curl imports files to Jupyter session from a web address\n",
    "\n",
    "below is a code using curl to import poem1.txt, the code is in a command line interface syntax\n",
    "\n",
    "!curl https://raw.githubusercontent.com/MicrosoftLearning/intropython/master/poem1.txt -o poem1.txt\n",
    "\n",
    "The table explains each element of the command above:\n"
   ]
  },
  {
   "attachments": {
    "pic.png": {
     "image/png": "[encoded data removed]"
    }
   },
   "cell_type": "markdown",
   "metadata": {},
   "source": [
    "![pic.png](attachment:pic.png)"
   ]
  },
  {
   "cell_type": "code",
   "execution_count": 402,
   "metadata": {},
   "outputs": [
    {
     "name": "stdout",
     "output_type": "stream",
     "text": [
      "  % Total    % Received % Xferd  Average Speed   Time    Time     Time  Current\n",
      "                                 Dload  Upload   Total   Spent    Left  Speed\n",
      "100    56  100     0    0     0      0      0 --:--:--  0:00:03 --:--:--     00    56    0     0     16      0  0:00:03  0:00:03 --:--:--    16\n"
     ]
    }
   ],
   "source": [
    "!curl https://raw.githubusercontent.com/MicrosoftLearning/intropython/master/poem1.txt -o poem1.txt"
   ]
  },
  {
   "cell_type": "markdown",
   "metadata": {},
   "source": [
    "## Opening a Local File in read mode"
   ]
  },
  {
   "cell_type": "markdown",
   "metadata": {},
   "source": [
    "poem_file = open('poem1.txt', 'r')\n",
    "\n",
    " \n",
    "\n",
    "'r'\t :   read only mode\n",
    "\n",
    "'w'\t :  write - overwrites file with same name\n",
    "\n",
    "'r+  :  read and write mode\n",
    "\n",
    "'a'\t :   opens for appending to end of file\n"
   ]
  },
  {
   "cell_type": "code",
   "execution_count": 409,
   "metadata": {},
   "outputs": [
    {
     "name": "stdout",
     "output_type": "stream",
     "text": [
      "Loops I repeat\n",
      "loops\n",
      "loops\n",
      "loops\n",
      "I repeat\n",
      "until I\n",
      "break\n",
      "\n"
     ]
    }
   ],
   "source": [
    "poem =open(\"poem1.txt\", \"r\")\n",
    "print(poem.read())"
   ]
  },
  {
   "cell_type": "code",
   "execution_count": 411,
   "metadata": {},
   "outputs": [
    {
     "name": "stdout",
     "output_type": "stream",
     "text": [
      "Loops I re\n"
     ]
    }
   ],
   "source": [
    "# read 10 character file_name.read(n)\n",
    "poem =open(\"poem1.txt\", \"r\")\n",
    "print(poem.read(10))"
   ]
  },
  {
   "cell_type": "markdown",
   "metadata": {},
   "source": [
    "## .readlines()\n",
    "\n",
    "File read as a list with .readlines()\n",
    "\n",
    "converts the lines of a file into a list of strings"
   ]
  },
  {
   "cell_type": "code",
   "execution_count": 432,
   "metadata": {},
   "outputs": [
    {
     "name": "stdout",
     "output_type": "stream",
     "text": [
      "['Loops I repeat\\n', 'loops\\n', 'loops\\n', 'loops\\n', 'I repeat\\n', 'until I\\n', 'break\\n'] \n",
      "\n",
      "Loops I repeat\n",
      "\n",
      "loops\n",
      "\n",
      "loops\n",
      "\n",
      "loops\n",
      "\n",
      "I repeat\n",
      "\n",
      "until I\n",
      "\n",
      "break\n",
      "\n"
     ]
    }
   ],
   "source": [
    "poem = open(\"poem1.txt\" , \"r\")\n",
    "poem_l = poem.readlines()\n",
    "print(poem_l,\"\\n\")\n",
    "\n",
    "for line in poem_l:\n",
    "    print(line)"
   ]
  },
  {
   "cell_type": "markdown",
   "metadata": {},
   "source": [
    "## [:-1] -> It slices the string to omit the last character, in this case a newline character"
   ]
  },
  {
   "cell_type": "code",
   "execution_count": 446,
   "metadata": {},
   "outputs": [
    {
     "data": {
      "text/plain": [
       "'spring'"
      ]
     },
     "execution_count": 446,
     "metadata": {},
     "output_type": "execute_result"
    }
   ],
   "source": [
    "a= \"spring\\n\"\n",
    "a[:-1]"
   ]
  },
  {
   "cell_type": "code",
   "execution_count": 448,
   "metadata": {},
   "outputs": [
    {
     "data": {
      "text/plain": [
       "['rah', 'mas']"
      ]
     },
     "execution_count": 448,
     "metadata": {},
     "output_type": "execute_result"
    }
   ],
   "source": [
    "lis= [\"rah\", \"mas\", \"bo\"]\n",
    "\n",
    "lis[:-1]"
   ]
  },
  {
   "cell_type": "code",
   "execution_count": 449,
   "metadata": {},
   "outputs": [
    {
     "name": "stdout",
     "output_type": "stream",
     "text": [
      "['Loops I repeat', 'loops', 'loops', 'loops', 'I repeat', 'until I', 'break']\n"
     ]
    }
   ],
   "source": [
    "poem = open(\"poem1.txt\" , \"r\")\n",
    "poem_l = poem.readlines()\n",
    "\n",
    "\n",
    "count = 0\n",
    "for line in poem_l:\n",
    "    poem_l[count] = line[:-1]\n",
    "    count +=1\n",
    "    \n",
    "print (poem_l)"
   ]
  },
  {
   "cell_type": "markdown",
   "metadata": {},
   "source": [
    "### Open file takes memory so we can use the .close() method to free resources.\n"
   ]
  },
  {
   "cell_type": "code",
   "execution_count": 451,
   "metadata": {},
   "outputs": [],
   "source": [
    "poem.close()"
   ]
  },
  {
   "attachments": {
    "Screen%20Shot%202018-11-02%20at%2010.24.17%20AM.png": {
     "image/png": "[encoded data removed]"
    }
   },
   "cell_type": "markdown",
   "metadata": {},
   "source": [
    "![Screen%20Shot%202018-11-02%20at%2010.24.17%20AM.png](attachment:Screen%20Shot%202018-11-02%20at%2010.24.17%20AM.png)"
   ]
  },
  {
   "cell_type": "code",
   "execution_count": 471,
   "metadata": {},
   "outputs": [
    {
     "name": "stdout",
     "output_type": "stream",
     "text": [
      "enter a saying or poem: Little fly, Thy summer’s play My thoughtless hand Has brushed away. Am not I A fly like thee? Or art not thou A man like me?\n",
      "or BRUSHED thy\n",
      " not SUMMER’S thou\n",
      " me? THOUGHTLESS thee?\n",
      " like a play\n",
      " i a not\n",
      " hand am my\n",
      " fly art man\n",
      "\n"
     ]
    }
   ],
   "source": [
    "poem = input(\"enter a saying or poem: \")\n",
    "original_list = poem.split()\n",
    "new_list =[]\n",
    "new_poem=[]\n",
    "\n",
    "for word in original_list:\n",
    "    if len(word) < 4:\n",
    "        new_list.append(word.lower())\n",
    "    elif len(word) > 6:\n",
    "        new_list.append(word.upper())\n",
    "    elif len(word) in range(4,6):\n",
    "        new_list.append(word)\n",
    "    else:\n",
    "        pass\n",
    "def word_mixer(new_list):\n",
    "    new_list.sort()\n",
    "    while len(new_list) > 5:\n",
    "            new_poem.append(new_list.pop(-5))\n",
    "            new_poem.append(new_list.pop(0))\n",
    "            new_poem.append(new_list.pop(-1)+'\\n')        \n",
    "            \n",
    "    joined = ' '.join(new_poem)\n",
    "    print(joined)\n",
    "\n",
    "word_mixer(new_list)"
   ]
  },
  {
   "cell_type": "code",
   "execution_count": 478,
   "metadata": {},
   "outputs": [],
   "source": [
    "poem = open(\"poem1.txt\" , \"r\")"
   ]
  },
  {
   "cell_type": "code",
   "execution_count": 479,
   "metadata": {},
   "outputs": [
    {
     "name": "stdout",
     "output_type": "stream",
     "text": [
      "Loops I repeat\n",
      "loops\n",
      "loops\n",
      "loops\n",
      "I repeat\n",
      "until I\n",
      "break\n"
     ]
    }
   ],
   "source": [
    "\n",
    "poem1= poem.readline()\n",
    "while poem1:\n",
    "    print(poem1[:-1])\n",
    "    poem1 = poem.readline()"
   ]
  },
  {
   "cell_type": "code",
   "execution_count": 481,
   "metadata": {},
   "outputs": [],
   "source": [
    "poem.close()"
   ]
  },
  {
   "cell_type": "markdown",
   "metadata": {},
   "source": [
    "## .strip() removes leading and trailing whitespace, including the '\\n' formatting character"
   ]
  },
  {
   "cell_type": "code",
   "execution_count": 483,
   "metadata": {},
   "outputs": [
    {
     "name": "stdout",
     "output_type": "stream",
     "text": [
      "Loops I repeat\n",
      "loops\n",
      "loops\n",
      "loops\n",
      "I repeat\n",
      "until I\n",
      "break\n"
     ]
    }
   ],
   "source": [
    "poem = open(\"poem1.txt\" , \"r\")\n",
    "poem1 = poem.readline().strip()\n",
    "\n",
    "while poem1:\n",
    "    print(poem1)\n",
    "    poem1 = poem.readline().strip()\n",
    "    \n",
    "poem.close()"
   ]
  },
  {
   "cell_type": "markdown",
   "metadata": {},
   "source": [
    "### .strip() arguments\n",
    "\n",
    "color = rainbow_messy.readline().strip('*\\n*')\n",
    "#### .strip('*\\n') removes leading and trailing * and \\n"
   ]
  },
  {
   "cell_type": "markdown",
   "metadata": {},
   "source": [
    "## writing to a file opened in write mode 'w' or 'w+'\n",
    "\n",
    "- poem_file = open('poem.txt', 'w') \n",
    "- poem_file.write(\"Hello World!\\n\")  \n",
    "-- write mode: 'w'\n",
    "\n",
    "write mode plus read: 'w+'\n",
    "\n",
    "'w' and 'w+' modes will create a new file or overwrite existing files\n",
    "\n",
    "**All previous data will be lost**"
   ]
  },
  {
   "cell_type": "markdown",
   "metadata": {},
   "source": [
    "### using .seek(0)\n",
    "\n",
    "- setting the pointer to beginning of file\n",
    "\n",
    "new_file.seek(0)\n",
    "\n",
    "new_contents = new_file.read()\n",
    "\n",
    "print(new_contents)\n",
    "\n",
    "using .seek() to set the read/write pointer to beginning of file\n",
    "\n",
    "***new_file.seek(0) moves the file read\\write pointer to the start of the file***"
   ]
  },
  {
   "attachments": {
    "Screen%20Shot%202018-11-02%20at%206.13.40%20PM.png": {
     "image/png": "[encoded data removed]"
    }
   },
   "cell_type": "markdown",
   "metadata": {},
   "source": [
    "![Screen%20Shot%202018-11-02%20at%206.13.40%20PM.png](attachment:Screen%20Shot%202018-11-02%20at%206.13.40%20PM.png)"
   ]
  },
  {
   "cell_type": "markdown",
   "metadata": {},
   "source": [
    "Task 3\n",
    "\n",
    "seek() with optional whence argument\n",
    "\n",
    "- open a new file days.txt in write plus read mode 'w+'\n",
    "- write week days (Monday - Friday) on separate lines\n",
    "- use .seek() to move the pointer to the start of the file\n",
    "- use .read() to read the entire file contents\n",
    "- print the entire file contents and close the file\n",
    "- use .seek() to move the pointer to the end of the file and write the weekend days (Saturday & Sunday)\n",
    "- use .seek() to move the pointer to the start of the file\n",
    "- use .read() to read the entire file contents\n",
    "- print the entire file contents and close the file\n"
   ]
  },
  {
   "cell_type": "code",
   "execution_count": 530,
   "metadata": {},
   "outputs": [
    {
     "name": "stdout",
     "output_type": "stream",
     "text": [
      "week days:\n",
      " mon\n",
      "tue\n",
      "wen\n",
      "thu\n",
      "fri\n",
      "\n",
      "week day and weekend days:\n",
      " mon\n",
      "tue\n",
      "wen\n",
      "thu\n",
      "fri\n",
      "sat\n",
      "sun\n",
      "\n"
     ]
    }
   ],
   "source": [
    "week = open(\"days.txt\", \"w+\")\n",
    "week.write(\"mon\\ntue\\nwen\\nthu\\nfri\\n\")\n",
    "\n",
    "week.seek(0)\n",
    "print(\"week days:\\n\",week.read())\n",
    "\n",
    "week.seek(0,2)\n",
    "week.write(\"sat\\nsun\\n\")\n",
    "\n",
    "week.seek(0)\n",
    "print(\"week day and weekend days:\\n\",week.read())\n",
    "week.close()"
   ]
  },
  {
   "attachments": {
    "Screen%20Shot%202018-11-03%20at%201.49.11%20PM.png": {
     "image/png": "[encoded data removed]"
    }
   },
   "cell_type": "markdown",
   "metadata": {},
   "source": [
    "![Screen%20Shot%202018-11-03%20at%201.49.11%20PM.png](attachment:Screen%20Shot%202018-11-03%20at%201.49.11%20PM.png)"
   ]
  },
  {
   "cell_type": "code",
   "execution_count": 499,
   "metadata": {},
   "outputs": [
    {
     "data": {
      "text/plain": [
       "['mon\\n', 'tue\\n', 'wen\\n', 'thu\\n', 'fri\\n', 'sat\\n', 'sun\\n']"
      ]
     },
     "execution_count": 499,
     "metadata": {},
     "output_type": "execute_result"
    }
   ],
   "source": [
    "week.seek(0)\n",
    "week.readlines()"
   ]
  },
  {
   "cell_type": "markdown",
   "metadata": {},
   "source": [
    "### Program: Element_Quiz\n",
    "\n",
    "###### In this program the user enters the name of any 5 of the first 20 Atomic Elements and is given a grade and test report for items correct and incorrect.\n",
    "\n",
    "Create get_names() Function to collect input of 5 unique element names\n",
    "\n",
    "- The function accepts no arguments and returns a list of 5 input strings (element names)\n",
    "- define a list to hold the input\n",
    "- collect input of a element name\n",
    "- if input it is not already in the list add the input to the list\n",
    "- don't allow empty strings as input\n",
    "- once 5 unique inputs return the list\n",
    "\n",
    "Create the Program flow\n",
    "\n",
    "- import the file into the Jupyter Notebook environment\n",
    "- use !curl to download https://raw.githubusercontent.com/MicrosoftLearning/intropython/master/elements1_20.txt as elements1_20.txt\n",
    "- open the file with the first 20 elements\n",
    "- read one line at a time to get element names, remove any whitespace (spaces, newlines) and save each element name, as lowercase, into a list\n",
    "\n",
    "Call the get_names() function\n",
    "\n",
    "- the return value will be the quiz responses list\n",
    "\n",
    "**check if responses are in the list of elements**\n",
    "\n",
    "Iterate through 5 responses\n",
    "\n",
    "- compare each response to the list of 20 elements\n",
    "- any response that is in the list of 20 elements is correct and should be added to a list of correct responses\n",
    "- if not in the list of 20 elements then add to a list of incorrect responses\n",
    "\n",
    "calculate the % correct\n",
    "\n",
    "find the the number of items in the correct responses and divide by 5, this will result in answers like 1.0, .8, .6,...\n",
    "\n",
    "to get the % multiple the calculated answer above by 100, this will result in answers like 100, 80, 60...\n",
    "\n",
    "hint: instead of dividing by 5 and then multiplying by 100, the number of correct responses can be multiplied by 20\n",
    "Print output\n",
    "\n",
    "print the Score % right\n",
    "print each of the correct responses\n",
    "print each of the incorrect responses\n",
    "\n",
    "\n"
   ]
  },
  {
   "cell_type": "code",
   "execution_count": 519,
   "metadata": {},
   "outputs": [
    {
     "name": "stdout",
     "output_type": "stream",
     "text": [
      "  % Total    % Received % Xferd  Average Speed   Time    Time     Time  Current\n",
      "                                 Dload  Upload   Total   Spent    Left  Speed\n",
      "100   161  100   161    0     0   1257      0 --:--:-- --:--:-- --:--:--  1257\n",
      "Enter the name of an element: argon\n",
      "Enter the name of an element: chlorine\n",
      "Enter the name of an element: sodium\n",
      "Enter the name of an element: argon\n",
      "argon was already entered\t <--no duplicated allowed\n",
      "Enter the name of an element: helium\n",
      "Enter the name of an element: gold\n",
      "80 % correct!\n",
      "Found:  ['argon', 'chlorine', 'sodium', 'helium']\n",
      "Not Found:  ['gold']\n"
     ]
    }
   ],
   "source": [
    "!curl https://raw.githubusercontent.com/MicrosoftLearning/intropython/master/elements1_20.txt -o elements1_20.txt\n",
    "\n",
    "elements1_20 = open(\"elements1_20.txt\",\"r\")\n",
    "elem_list = elements1_20.readlines()\n",
    "elements1_20.seek(0)\n",
    "\n",
    "elem_str = []\n",
    "\n",
    "count=0\n",
    "while count <20:\n",
    "    elem_str += elements1_20.readline().strip().lower().split(',')\n",
    "    count +=1\n",
    "    if count >=20:\n",
    "        break\n",
    "\n",
    "elem_guess = []\n",
    "\n",
    "def get_names():\n",
    "    \n",
    "    \n",
    "    counter = 0\n",
    "    while counter <5:\n",
    "        guess = input(\"Enter the name of an element: \")\n",
    "        if guess in elem_guess:\n",
    "            print (guess, \"was already entered\\t <--no duplicated allowed\")\n",
    "            \n",
    "        elif guess == \"\":\n",
    "            print(\"Nothing was entered! Try again!\")\n",
    "            \n",
    "        else:\n",
    "            elem_guess.append(guess)\n",
    "            counter +=1\n",
    "            \n",
    "    \n",
    "    return elem_guess\n",
    "\n",
    "\n",
    "        \n",
    "get_names()\n",
    "\n",
    "correct_guess = []\n",
    "incorrect_guess = []\n",
    "correct = 0\n",
    "incorrect = 0\n",
    "guess_counter = 0\n",
    "\n",
    "while guess_counter < 5:\n",
    "    for guess in elem_guess:\n",
    "        range(len(elem_list)) \n",
    "        if guess in elem_str:\n",
    "            correct_guess.append(guess)\n",
    "            guess_counter += 1\n",
    "            correct +=1\n",
    "        else:\n",
    "            incorrect_guess.append(guess)\n",
    "            guess_counter += 1\n",
    "            incorrect +=1\n",
    "            \n",
    "\n",
    " \n",
    "pct_correct = correct * 20\n",
    "\n",
    "print(pct_correct, \"% correct!\")\n",
    "print(\"Found: \", correct_guess)\n",
    "print(\"Not Found: \", incorrect_guess)\n",
    "\n",
    "elements1_20.close()"
   ]
  },
  {
   "cell_type": "markdown",
   "metadata": {},
   "source": [
    "### The Weather\n",
    "\n",
    "Create a program that:\n",
    "\n",
    "- imports and opens a file\n",
    "- appends additional data to a file\n",
    "- reads from the file to displays each city name and month average high temperature in Celsius\n"
   ]
  },
  {
   "cell_type": "code",
   "execution_count": 529,
   "metadata": {},
   "outputs": [
    {
     "name": "stdout",
     "output_type": "stream",
     "text": [
      "  % Total    % Received % Xferd  Average Speed   Time    Time     Time  Current\n",
      "                                 Dload  Upload   Total   Spent    Left  Speed\n",
      "100   222  100   222    0     0   1290      0 --:--:-- --:--:-- --:--:--  1283\n",
      "['city', 'country', 'month ave: highest high', 'month ave: lowest low\\n']\n",
      "City of Cairo month ave: highest high is 34.7 Celsius\n",
      "City of London month ave: highest high is 23.5 Celsius\n",
      "City of Nairobi month ave: highest high is 26.3 Celsius\n",
      "City of New York City month ave: highest high is 28.9 Celsius\n",
      "City of Sydney month ave: highest high is 26.5 Celsius\n",
      "City of Tokyo month ave: highest high is 30.8 Celsius\n",
      "City of Rio de Janeiro month ave: highest high is 30.0 Celsius\n"
     ]
    }
   ],
   "source": [
    "!curl  https://raw.githubusercontent.com/MicrosoftLearning/intropython/master/world_temp_mean.csv -o mean_temp.txt\n",
    "\n",
    "mean_temp = open(\"mean_temp.txt\", \"a+\")\n",
    "mean_temp.write(\"Rio de Janeiro,Brazil,30.0,18.0\\n\")\n",
    "mean_temp.seek(0)\n",
    "headings = mean_temp.readline().split(',')\n",
    "print(headings)\n",
    "city_temp = mean_temp.readline().split(\",\")\n",
    "\n",
    "city_temp\n",
    "\n",
    "mean_temp.seek(0,1)\n",
    "city_temp=mean_temp.readline().split(\",\")\n",
    "     \n",
    "while while len(city_temp) == len(headings):\n",
    "    print(headings[0].capitalize()+\" of \"+city_temp[0]+\" \"+ headings[2]+\" is \"+city_temp[2]+\" Celsius\")\n",
    "    city_temp = mean_temp.readline().split(\",\")\n",
    "     \n",
    "mean_temp.close()"
   ]
  },
  {
   "cell_type": "code",
   "execution_count": null,
   "metadata": {},
   "outputs": [],
   "source": []
  }
 ],
 "metadata": {
  "kernelspec": {
   "display_name": "Python 3",
   "language": "python",
   "name": "python3"
  },
  "language_info": {
   "codemirror_mode": {
    "name": "ipython",
    "version": 3
   },
   "file_extension": ".py",
   "mimetype": "text/x-python",
   "name": "python",
   "nbconvert_exporter": "python",
   "pygments_lexer": "ipython3",
   "version": "3.6.4"
  }
 },
 "nbformat": 4,
 "nbformat_minor": 2
}
